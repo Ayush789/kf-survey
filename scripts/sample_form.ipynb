{
 "cells": [
  {
   "cell_type": "code",
   "execution_count": 3,
   "metadata": {},
   "outputs": [],
   "source": [
    "types = [\n",
    "    \"text_fixed\",\n",
    "    \"image_fixed\",\n",
    "    \"text_input\",\n",
    "    \"toggle_input\",\n",
    "    \"checkbox\",\n",
    "    \"rating\",\n",
    "    \"dropdown\",\n",
    "]"
   ]
  },
  {
   "cell_type": "code",
   "execution_count": 4,
   "metadata": {},
   "outputs": [],
   "source": [
    "survey = {\n",
    "    \"active\": True,\n",
    "    \"name\": \"Complete Sample\",\n",
    "    \"sections\": [\n",
    "        {\n",
    "            \"index\": 0,\n",
    "            \"name\": \"page1\",\n",
    "            \"label\": \"Page 1\",\n",
    "            \"survey_fields\": [\n",
    "                {\n",
    "                    \"name\": \"image_fixed\",\n",
    "                    \"type\": \"image_fixed\",\n",
    "                    \"active\": True,\n",
    "                    \"source\": \"https://images.unsplash.com/photo-1679936167452-18a6119f4006?ixlib=rb-4.0.3&ixid=MnwxMjA3fDB8MHxwaG90by1wYWdlfHx8fGVufDB8fHx8&auto=format&fit=crop&w=687&q=80\",\n",
    "                },\n",
    "                {\n",
    "                    \"name\": \"text_fixed\",\n",
    "                    \"type\": \"text_fixed\",\n",
    "                    \"active\": True,\n",
    "                    \"display_text\": \"Sample Fixed Text\",\n",
    "                },\n",
    "                {\n",
    "                    \"name\": \"text_input\",\n",
    "                    \"type\": \"text_input\",\n",
    "                    \"active\": True,\n",
    "                    \"label\": \"Text Input\",\n",
    "                },\n",
    "                {\n",
    "                    \"name\": \"toggle_input\",\n",
    "                    \"type\": \"toggle_input\",\n",
    "                    \"active\": True,\n",
    "                    \"label\": \"Toogle Input\",\n",
    "                },\n",
    "                {\n",
    "                    \"name\": \"checkbox\",\n",
    "                    \"type\": \"checkbox\",\n",
    "                    \"active\": True,\n",
    "                    \"label\": \"Checkbox Input\",\n",
    "                },\n",
    "                {\n",
    "                    \"name\": \"rating\",\n",
    "                    \"type\": \"rating\",\n",
    "                    \"active\": True,\n",
    "                    \"label\": \"Rating Input\",\n",
    "                },\n",
    "                {\n",
    "                    \"name\": \"dropdown\",\n",
    "                    \"type\": \"dropdown\",\n",
    "                    \"active\": True,\n",
    "                    \"label\": \"Dropdown Input\",\n",
    "                    \"options\": [\n",
    "                        \"Option 1\",\n",
    "                        \"Option 2\",\n",
    "                        \"Option 3\",\n",
    "                        \"Option 4\",\n",
    "                        \"Option 5\",\n",
    "                        \"Option 6\",\n",
    "                        \"Option 7\",\n",
    "                    ]\n",
    "                },\n",
    "            ],\n",
    "        }\n",
    "    ],\n",
    "}\n"
   ]
  },
  {
   "cell_type": "code",
   "execution_count": 5,
   "metadata": {},
   "outputs": [],
   "source": [
    "import firebase_admin\n",
    "from firebase_admin import credentials, firestore"
   ]
  },
  {
   "cell_type": "code",
   "execution_count": 6,
   "metadata": {},
   "outputs": [],
   "source": [
    "# %pip install firebase_admin"
   ]
  },
  {
   "cell_type": "markdown",
   "metadata": {},
   "source": []
  },
  {
   "cell_type": "code",
   "execution_count": 7,
   "metadata": {},
   "outputs": [],
   "source": [
    "cred = credentials.Certificate(\"key.json\")"
   ]
  },
  {
   "cell_type": "code",
   "execution_count": 8,
   "metadata": {},
   "outputs": [
    {
     "data": {
      "text/plain": [
       "<firebase_admin.App at 0x2516cc3eda0>"
      ]
     },
     "execution_count": 8,
     "metadata": {},
     "output_type": "execute_result"
    }
   ],
   "source": [
    "firebase_admin.initialize_app(cred)"
   ]
  },
  {
   "cell_type": "code",
   "execution_count": 9,
   "metadata": {},
   "outputs": [],
   "source": [
    "db = firestore.client()"
   ]
  },
  {
   "cell_type": "code",
   "execution_count": 10,
   "metadata": {},
   "outputs": [],
   "source": [
    "survey_coll = db.collection('survey')\n",
    "res = survey_coll.document('sample survey').set(survey)"
   ]
  },
  {
   "cell_type": "code",
   "execution_count": 11,
   "metadata": {},
   "outputs": [
    {
     "data": {
      "text/plain": [
       "update_time {\n",
       "  seconds: 1685376460\n",
       "  nanos: 638990000\n",
       "}"
      ]
     },
     "execution_count": 11,
     "metadata": {},
     "output_type": "execute_result"
    }
   ],
   "source": [
    "res"
   ]
  },
  {
   "cell_type": "code",
   "execution_count": 12,
   "metadata": {},
   "outputs": [
    {
     "data": {
      "text/plain": [
       "[<google.cloud.firestore_v1.base_document.DocumentSnapshot at 0x2516d8cc3a0>,\n",
       " <google.cloud.firestore_v1.base_document.DocumentSnapshot at 0x2516d8ce560>,\n",
       " <google.cloud.firestore_v1.base_document.DocumentSnapshot at 0x2516cc3f5b0>]"
      ]
     },
     "execution_count": 12,
     "metadata": {},
     "output_type": "execute_result"
    }
   ],
   "source": [
    "survey_coll.get()"
   ]
  },
  {
   "cell_type": "code",
   "execution_count": null,
   "metadata": {},
   "outputs": [],
   "source": []
  }
 ],
 "metadata": {
  "kernelspec": {
   "display_name": "Python 3",
   "language": "python",
   "name": "python3"
  },
  "language_info": {
   "codemirror_mode": {
    "name": "ipython",
    "version": 3
   },
   "file_extension": ".py",
   "mimetype": "text/x-python",
   "name": "python",
   "nbconvert_exporter": "python",
   "pygments_lexer": "ipython3",
   "version": "3.10.11"
  },
  "orig_nbformat": 4
 },
 "nbformat": 4,
 "nbformat_minor": 2
}
