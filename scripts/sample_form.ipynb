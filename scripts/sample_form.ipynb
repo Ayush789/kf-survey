{
 "cells": [
  {
   "cell_type": "code",
   "execution_count": 5,
   "metadata": {},
   "outputs": [],
   "source": [
    "types = [\n",
    "    \"text_fixed\",\n",
    "    \"image_fixed\",\n",
    "    \"text_input\",\n",
    "    \"toggle_input\",\n",
    "    \"checkbox\",\n",
    "    \"rating\",\n",
    "]"
   ]
  },
  {
   "cell_type": "code",
   "execution_count": 6,
   "metadata": {},
   "outputs": [],
   "source": [
    "survey = {\n",
    "    \"active\": True,\n",
    "    \"name\": \"Complete Sample\",\n",
    "    \"sections\": [\n",
    "        {\n",
    "            \"index\": 0,\n",
    "            \"name\": \"page1\",\n",
    "            \"label\": \"Page 1\",\n",
    "            \"survey_fields\": [\n",
    "                {\n",
    "                    \"name\": \"image_fixed\",\n",
    "                    \"type\": \"image_fixed\",\n",
    "                    \"active\": True,\n",
    "                    \"source\": \"https://images.unsplash.com/photo-1679936167452-18a6119f4006?ixlib=rb-4.0.3&ixid=MnwxMjA3fDB8MHxwaG90by1wYWdlfHx8fGVufDB8fHx8&auto=format&fit=crop&w=687&q=80\",\n",
    "                },\n",
    "                {\n",
    "                    \"name\": \"text_fixed\",\n",
    "                    \"type\": \"text_fixed\",\n",
    "                    \"active\": True,\n",
    "                    \"display_text\": \"Sample Fixed Text\",\n",
    "                },\n",
    "                {\n",
    "                    \"name\": \"text_input\",\n",
    "                    \"type\": \"text_input\",\n",
    "                    \"active\": True,\n",
    "                    \"label\": \"Text Input\",\n",
    "                },\n",
    "                {\n",
    "                    \"name\": \"toggle_input\",\n",
    "                    \"type\": \"toggle_input\",\n",
    "                    \"active\": True,\n",
    "                    \"label\": \"Toogle Input\",\n",
    "                },\n",
    "                {\n",
    "                    \"name\": \"checkbox\",\n",
    "                    \"type\": \"checkbox\",\n",
    "                    \"active\": True,\n",
    "                    \"label\": \"Checkbox Input\",\n",
    "                },\n",
    "                {\n",
    "                    \"name\": \"rating\",\n",
    "                    \"type\": \"rating\",\n",
    "                    \"active\": True,\n",
    "                    \"label\": \"Rating Input\",\n",
    "                },\n",
    "            ],\n",
    "        }\n",
    "    ],\n",
    "}\n"
   ]
  },
  {
   "cell_type": "code",
   "execution_count": 7,
   "metadata": {},
   "outputs": [],
   "source": [
    "import firebase_admin\n",
    "from firebase_admin import credentials, firestore"
   ]
  },
  {
   "cell_type": "code",
   "execution_count": 4,
   "metadata": {},
   "outputs": [
    {
     "name": "stdout",
     "output_type": "stream",
     "text": [
      "Collecting firebase_admin\n",
      "  Downloading firebase_admin-6.1.0-py3-none-any.whl (119 kB)\n",
      "     -------------------------------------- 119.5/119.5 kB 1.7 MB/s eta 0:00:00\n",
      "Collecting google-api-core[grpc]<3.0.0dev,>=1.22.1\n",
      "  Downloading google_api_core-2.11.0-py3-none-any.whl (120 kB)\n",
      "     -------------------------------------- 120.3/120.3 kB 3.6 MB/s eta 0:00:00\n",
      "Collecting pyjwt[crypto]>=2.5.0\n",
      "  Downloading PyJWT-2.6.0-py3-none-any.whl (20 kB)\n",
      "Collecting google-cloud-storage>=1.37.1\n",
      "  Downloading google_cloud_storage-2.8.0-py2.py3-none-any.whl (113 kB)\n",
      "     -------------------------------------- 113.6/113.6 kB 3.3 MB/s eta 0:00:00\n",
      "Collecting google-cloud-firestore>=2.9.1\n",
      "  Downloading google_cloud_firestore-2.10.1-py2.py3-none-any.whl (282 kB)\n",
      "     -------------------------------------- 282.5/282.5 kB 5.8 MB/s eta 0:00:00\n",
      "Collecting google-api-python-client>=1.7.8\n",
      "  Downloading google_api_python_client-2.83.0-py2.py3-none-any.whl (11.2 MB)\n",
      "     --------------------------------------- 11.2/11.2 MB 29.7 MB/s eta 0:00:00\n",
      "Collecting cachecontrol>=0.12.6\n",
      "  Downloading CacheControl-0.12.11-py2.py3-none-any.whl (21 kB)\n",
      "Collecting msgpack>=0.5.2\n",
      "  Downloading msgpack-1.0.5-cp310-cp310-win_amd64.whl (61 kB)\n",
      "     ---------------------------------------- 61.6/61.6 kB 3.4 MB/s eta 0:00:00\n",
      "Collecting requests\n",
      "  Downloading requests-2.28.2-py3-none-any.whl (62 kB)\n",
      "     ---------------------------------------- 62.8/62.8 kB 3.3 MB/s eta 0:00:00\n",
      "Collecting protobuf!=3.20.0,!=3.20.1,!=4.21.0,!=4.21.1,!=4.21.2,!=4.21.3,!=4.21.4,!=4.21.5,<5.0.0dev,>=3.19.5\n",
      "  Downloading protobuf-4.22.1-cp310-abi3-win_amd64.whl (420 kB)\n",
      "     ------------------------------------- 420.6/420.6 kB 13.2 MB/s eta 0:00:00\n",
      "Collecting googleapis-common-protos<2.0dev,>=1.56.2\n",
      "  Downloading googleapis_common_protos-1.59.0-py2.py3-none-any.whl (223 kB)\n",
      "     ------------------------------------- 223.6/223.6 kB 13.3 MB/s eta 0:00:00\n",
      "Collecting google-auth<3.0dev,>=2.14.1\n",
      "  Downloading google_auth-2.17.1-py2.py3-none-any.whl (178 kB)\n",
      "     ---------------------------------------- 178.1/178.1 kB ? eta 0:00:00\n",
      "Collecting grpcio<2.0dev,>=1.33.2\n",
      "  Downloading grpcio-1.53.0-cp310-cp310-win_amd64.whl (3.9 MB)\n",
      "     ---------------------------------------- 3.9/3.9 MB 41.8 MB/s eta 0:00:00\n",
      "Collecting grpcio-status<2.0dev,>=1.33.2\n",
      "  Downloading grpcio_status-1.53.0-py3-none-any.whl (5.1 kB)\n",
      "Collecting uritemplate<5,>=3.0.1\n",
      "  Downloading uritemplate-4.1.1-py2.py3-none-any.whl (10 kB)\n",
      "Collecting httplib2<1dev,>=0.15.0\n",
      "  Downloading httplib2-0.22.0-py3-none-any.whl (96 kB)\n",
      "     ---------------------------------------- 96.9/96.9 kB ? eta 0:00:00\n",
      "Collecting google-auth-httplib2>=0.1.0\n",
      "  Downloading google_auth_httplib2-0.1.0-py2.py3-none-any.whl (9.3 kB)\n",
      "Collecting google-cloud-core<3.0.0dev,>=1.4.1\n",
      "  Downloading google_cloud_core-2.3.2-py2.py3-none-any.whl (29 kB)\n",
      "Collecting proto-plus<2.0.0dev,>=1.22.0\n",
      "  Downloading proto_plus-1.22.2-py3-none-any.whl (47 kB)\n",
      "     ---------------------------------------- 47.9/47.9 kB 2.5 MB/s eta 0:00:00\n",
      "Collecting google-resumable-media>=2.3.2\n",
      "  Downloading google_resumable_media-2.4.1-py2.py3-none-any.whl (77 kB)\n",
      "     ---------------------------------------- 77.7/77.7 kB 4.2 MB/s eta 0:00:00\n",
      "Collecting cryptography>=3.4.0\n",
      "  Downloading cryptography-40.0.1-cp36-abi3-win_amd64.whl (2.6 MB)\n",
      "     ---------------------------------------- 2.6/2.6 MB 41.3 MB/s eta 0:00:00\n",
      "Collecting cffi>=1.12\n",
      "  Using cached cffi-1.15.1-cp310-cp310-win_amd64.whl (179 kB)\n",
      "Collecting rsa<5,>=3.1.4\n",
      "  Using cached rsa-4.9-py3-none-any.whl (34 kB)\n",
      "Collecting cachetools<6.0,>=2.0.0\n",
      "  Downloading cachetools-5.3.0-py3-none-any.whl (9.3 kB)\n",
      "Requirement already satisfied: six>=1.9.0 in c:\\users\\ayush admin\\appdata\\local\\packages\\pythonsoftwarefoundation.python.3.10_qbz5n2kfra8p0\\localcache\\local-packages\\python310\\site-packages (from google-auth<3.0dev,>=2.14.1->google-api-core[grpc]<3.0.0dev,>=1.22.1->firebase_admin) (1.16.0)\n",
      "Collecting pyasn1-modules>=0.2.1\n",
      "  Using cached pyasn1_modules-0.2.8-py2.py3-none-any.whl (155 kB)\n",
      "Collecting google-crc32c<2.0dev,>=1.0\n",
      "  Downloading google_crc32c-1.5.0-cp310-cp310-win_amd64.whl (27 kB)\n",
      "Requirement already satisfied: pyparsing!=3.0.0,!=3.0.1,!=3.0.2,!=3.0.3,<4,>=2.4.2 in c:\\users\\ayush admin\\appdata\\local\\packages\\pythonsoftwarefoundation.python.3.10_qbz5n2kfra8p0\\localcache\\local-packages\\python310\\site-packages (from httplib2<1dev,>=0.15.0->google-api-python-client>=1.7.8->firebase_admin) (3.0.9)\n",
      "Collecting idna<4,>=2.5\n",
      "  Using cached idna-3.4-py3-none-any.whl (61 kB)\n",
      "Collecting certifi>=2017.4.17\n",
      "  Using cached certifi-2022.12.7-py3-none-any.whl (155 kB)\n",
      "Collecting charset-normalizer<4,>=2\n",
      "  Downloading charset_normalizer-3.1.0-cp310-cp310-win_amd64.whl (97 kB)\n",
      "     ---------------------------------------- 97.1/97.1 kB 5.4 MB/s eta 0:00:00\n",
      "Collecting urllib3<1.27,>=1.21.1\n",
      "  Downloading urllib3-1.26.15-py2.py3-none-any.whl (140 kB)\n",
      "     -------------------------------------- 140.9/140.9 kB 8.2 MB/s eta 0:00:00\n",
      "Collecting pycparser\n",
      "  Using cached pycparser-2.21-py2.py3-none-any.whl (118 kB)\n",
      "Collecting pyasn1<0.5.0,>=0.4.6\n",
      "  Using cached pyasn1-0.4.8-py2.py3-none-any.whl (77 kB)\n",
      "Installing collected packages: pyasn1, msgpack, urllib3, uritemplate, rsa, pyjwt, pycparser, pyasn1-modules, protobuf, idna, httplib2, grpcio, google-crc32c, charset-normalizer, certifi, cachetools, requests, proto-plus, googleapis-common-protos, google-resumable-media, google-auth, cffi, grpcio-status, google-auth-httplib2, google-api-core, cryptography, cachecontrol, google-cloud-core, google-api-python-client, google-cloud-storage, google-cloud-firestore, firebase_admin\n",
      "Successfully installed cachecontrol-0.12.11 cachetools-5.3.0 certifi-2022.12.7 cffi-1.15.1 charset-normalizer-3.1.0 cryptography-40.0.1 firebase_admin-6.1.0 google-api-core-2.11.0 google-api-python-client-2.83.0 google-auth-2.17.1 google-auth-httplib2-0.1.0 google-cloud-core-2.3.2 google-cloud-firestore-2.10.1 google-cloud-storage-2.8.0 google-crc32c-1.5.0 google-resumable-media-2.4.1 googleapis-common-protos-1.59.0 grpcio-1.53.0 grpcio-status-1.53.0 httplib2-0.22.0 idna-3.4 msgpack-1.0.5 proto-plus-1.22.2 protobuf-4.22.1 pyasn1-0.4.8 pyasn1-modules-0.2.8 pycparser-2.21 pyjwt-2.6.0 requests-2.28.2 rsa-4.9 uritemplate-4.1.1 urllib3-1.26.15\n"
     ]
    },
    {
     "name": "stderr",
     "output_type": "stream",
     "text": [
      "\n",
      "[notice] A new release of pip available: 22.3.1 -> 23.0.1\n",
      "[notice] To update, run: C:\\Users\\Ayush Admin\\AppData\\Local\\Microsoft\\WindowsApps\\PythonSoftwareFoundation.Python.3.10_qbz5n2kfra8p0\\python.exe -m pip install --upgrade pip\n"
     ]
    }
   ],
   "source": [
    "# %pip install firebase_admin"
   ]
  },
  {
   "cell_type": "markdown",
   "metadata": {},
   "source": []
  },
  {
   "cell_type": "code",
   "execution_count": 9,
   "metadata": {},
   "outputs": [],
   "source": [
    "cred = credentials.Certificate(\"key.json\")"
   ]
  },
  {
   "cell_type": "code",
   "execution_count": 10,
   "metadata": {},
   "outputs": [
    {
     "data": {
      "text/plain": [
       "<firebase_admin.App at 0x2425fbe0670>"
      ]
     },
     "execution_count": 10,
     "metadata": {},
     "output_type": "execute_result"
    }
   ],
   "source": [
    "firebase_admin.initialize_app(cred)"
   ]
  },
  {
   "cell_type": "code",
   "execution_count": 11,
   "metadata": {},
   "outputs": [],
   "source": [
    "db = firestore.client()"
   ]
  },
  {
   "cell_type": "code",
   "execution_count": 12,
   "metadata": {},
   "outputs": [],
   "source": [
    "survey_coll = db.collection('survey')\n",
    "res = survey_coll.document('sample survey').set(survey)"
   ]
  },
  {
   "cell_type": "code",
   "execution_count": 13,
   "metadata": {},
   "outputs": [
    {
     "data": {
      "text/plain": [
       "update_time {\n",
       "  seconds: 1680475084\n",
       "  nanos: 455194000\n",
       "}"
      ]
     },
     "execution_count": 13,
     "metadata": {},
     "output_type": "execute_result"
    }
   ],
   "source": [
    "res"
   ]
  },
  {
   "cell_type": "code",
   "execution_count": 14,
   "metadata": {},
   "outputs": [
    {
     "data": {
      "text/plain": [
       "[<google.cloud.firestore_v1.base_document.DocumentSnapshot at 0x24260b68550>,\n",
       " <google.cloud.firestore_v1.base_document.DocumentSnapshot at 0x24260b68070>,\n",
       " <google.cloud.firestore_v1.base_document.DocumentSnapshot at 0x24260b685b0>]"
      ]
     },
     "execution_count": 14,
     "metadata": {},
     "output_type": "execute_result"
    }
   ],
   "source": [
    "survey_coll.get()"
   ]
  },
  {
   "cell_type": "code",
   "execution_count": null,
   "metadata": {},
   "outputs": [],
   "source": []
  }
 ],
 "metadata": {
  "kernelspec": {
   "display_name": "Python 3",
   "language": "python",
   "name": "python3"
  },
  "language_info": {
   "codemirror_mode": {
    "name": "ipython",
    "version": 3
   },
   "file_extension": ".py",
   "mimetype": "text/x-python",
   "name": "python",
   "nbconvert_exporter": "python",
   "pygments_lexer": "ipython3",
   "version": "3.10.10"
  },
  "orig_nbformat": 4
 },
 "nbformat": 4,
 "nbformat_minor": 2
}
